{
 "cells": [
  {
   "cell_type": "code",
   "execution_count": 2,
   "metadata": {},
   "outputs": [],
   "source": [
    "import torch \n",
    "import torch.nn.functional as F\n",
    "import matplotlib.pyplot as plt\n",
    "import pandas as pd\n",
    "%matplotlib inline"
   ]
  },
  {
   "cell_type": "code",
   "execution_count": 26,
   "metadata": {},
   "outputs": [],
   "source": [
    "words=pd.read_csv(\"data/amharic_names.csv\")\n",
    "am_words=words[\"in_am\"].tolist()"
   ]
  },
  {
   "cell_type": "code",
   "execution_count": 513,
   "metadata": {},
   "outputs": [],
   "source": [
    "chars=sorted(list((set(\"\".join(am_words)))))\n",
    "stoi={s:i+1 for i,s in enumerate(chars)}\n",
    "stoi[\"-\"]=1\n",
    "stoi[\".\"]=0\n",
    "itos={i:s for s,i in stoi.items()}"
   ]
  },
  {
   "cell_type": "code",
   "execution_count": 56,
   "metadata": {},
   "outputs": [
    {
     "name": "stdout",
     "output_type": "stream",
     "text": [
      "አሮን\n",
      "... ----> አ\n",
      "..አ ----> ሮ\n",
      ".አሮ ----> ን\n",
      "አሮን ----> .\n",
      "ዐብድኤል\n",
      "... ----> ዐ\n",
      "..ዐ ----> ብ\n",
      ".ዐብ ----> ድ\n",
      "ዐብድ ----> ኤ\n",
      "ብድኤ ----> ል\n",
      "ድኤል ----> .\n",
      "አቤል\n",
      "... ----> አ\n",
      "..አ ----> ቤ\n",
      ".አቤ ----> ል\n",
      "አቤል ----> .\n",
      "አቢዳጽ\n",
      "... ----> አ\n",
      "..አ ----> ቢ\n",
      ".አቢ ----> ዳ\n",
      "አቢዳ ----> ጽ\n",
      "ቢዳጽ ----> .\n"
     ]
    }
   ],
   "source": [
    "block_size=3\n",
    "X,Y=[],[]\n",
    "for w in am_words[:4]:\n",
    "    print(w)\n",
    "    context=[0]*block_size\n",
    "    for ch in w + \".\":\n",
    "        ix=stoi[ch]\n",
    "        X.append(context)\n",
    "        Y.append(ix)\n",
    "        print(\"\".join(itos[i] for i in context),'---->',itos[ix])\n",
    "        context=context[1:]+[ix]\n",
    "X=torch.tensor(X)\n",
    "Y=torch.tensor(Y)"
   ]
  },
  {
   "cell_type": "code",
   "execution_count": 60,
   "metadata": {},
   "outputs": [
    {
     "data": {
      "text/plain": [
       "(torch.Size([19, 3]), torch.int64, torch.Size([19]), torch.int64)"
      ]
     },
     "execution_count": 60,
     "metadata": {},
     "output_type": "execute_result"
    }
   ],
   "source": [
    "X.shape,X.dtype,Y.shape,Y.dtype"
   ]
  },
  {
   "cell_type": "markdown",
   "metadata": {},
   "source": [
    "embeding"
   ]
  },
  {
   "cell_type": "code",
   "execution_count": 70,
   "metadata": {},
   "outputs": [],
   "source": [
    "C=torch.randn((188,2))"
   ]
  },
  {
   "cell_type": "code",
   "execution_count": 83,
   "metadata": {},
   "outputs": [
    {
     "data": {
      "text/plain": [
       "tensor([1.2956, 0.0068])"
      ]
     },
     "execution_count": 83,
     "metadata": {},
     "output_type": "execute_result"
    }
   ],
   "source": [
    "# embeding one dimensional tensor\n",
    "C[5] #method-----one"
   ]
  },
  {
   "cell_type": "code",
   "execution_count": 79,
   "metadata": {},
   "outputs": [
    {
     "data": {
      "text/plain": [
       "tensor([1.2956, 0.0068])"
      ]
     },
     "execution_count": 79,
     "metadata": {},
     "output_type": "execute_result"
    }
   ],
   "source": [
    "# method---- two\n",
    "F.one_hot(torch.tensor(5),num_classes=188).float() @ C"
   ]
  },
  {
   "cell_type": "code",
   "execution_count": 87,
   "metadata": {},
   "outputs": [
    {
     "data": {
      "text/plain": [
       "torch.Size([19, 3, 2])"
      ]
     },
     "execution_count": 87,
     "metadata": {},
     "output_type": "execute_result"
    }
   ],
   "source": [
    "# how do we simultanously multi dimensional\n",
    "C[X]  # method----one\n",
    "C[X].shape"
   ]
  },
  {
   "cell_type": "code",
   "execution_count": 89,
   "metadata": {},
   "outputs": [
    {
     "name": "stdout",
     "output_type": "stream",
     "text": [
      "tensor(14)\n",
      "tensor([0.3315, 0.3698])\n",
      "tensor([0.3315, 0.3698])\n"
     ]
    }
   ],
   "source": [
    "print(X[13,2])\n",
    "print(C[X][13,2])\n",
    "print(C[14])"
   ]
  },
  {
   "cell_type": "code",
   "execution_count": 123,
   "metadata": {},
   "outputs": [
    {
     "data": {
      "text/plain": [
       "torch.Size([19, 3, 2])"
      ]
     },
     "execution_count": 123,
     "metadata": {},
     "output_type": "execute_result"
    }
   ],
   "source": [
    "## pytorch embeding \n",
    "C=torch.randn((188,2))\n",
    "embed=C[X]\n",
    "embed.dtype\n",
    "embed.shape"
   ]
  },
  {
   "cell_type": "markdown",
   "metadata": {},
   "source": [
    "concat the embed inoreder to do the multiplication with W"
   ]
  },
  {
   "cell_type": "code",
   "execution_count": 105,
   "metadata": {},
   "outputs": [
    {
     "data": {
      "text/plain": [
       "tensor([[ 0.5033,  1.5342,  0.5033,  1.5342,  0.5033,  1.5342],\n",
       "        [ 0.5033,  1.5342,  0.5033,  1.5342,  0.1354, -1.6490],\n",
       "        [ 0.5033,  1.5342,  0.1354, -1.6490,  1.0937, -0.6189],\n",
       "        [ 0.1354, -1.6490,  1.0937, -0.6189,  0.9206, -0.9490],\n",
       "        [ 0.5033,  1.5342,  0.5033,  1.5342,  0.5033,  1.5342],\n",
       "        [ 0.5033,  1.5342,  0.5033,  1.5342, -0.7817,  0.8748],\n",
       "        [ 0.5033,  1.5342, -0.7817,  0.8748, -1.1031, -1.1599],\n",
       "        [-0.7817,  0.8748, -1.1031, -1.1599,  0.4824, -0.4671],\n",
       "        [-1.1031, -1.1599,  0.4824, -0.4671, -1.4536, -0.0434],\n",
       "        [ 0.4824, -0.4671, -1.4536, -0.0434, -1.4797, -0.2591],\n",
       "        [ 0.5033,  1.5342,  0.5033,  1.5342,  0.5033,  1.5342],\n",
       "        [ 0.5033,  1.5342,  0.5033,  1.5342,  0.1354, -1.6490],\n",
       "        [ 0.5033,  1.5342,  0.1354, -1.6490, -1.2548, -0.1698],\n",
       "        [ 0.1354, -1.6490, -1.2548, -0.1698, -1.4797, -0.2591],\n",
       "        [ 0.5033,  1.5342,  0.5033,  1.5342,  0.5033,  1.5342],\n",
       "        [ 0.5033,  1.5342,  0.5033,  1.5342,  0.1354, -1.6490],\n",
       "        [ 0.5033,  1.5342,  0.1354, -1.6490, -0.0890, -1.1052],\n",
       "        [ 0.1354, -1.6490, -0.0890, -1.1052, -1.2410,  0.9524],\n",
       "        [-0.0890, -1.1052, -1.2410,  0.9524, -0.8920, -0.1377]])"
      ]
     },
     "execution_count": 105,
     "metadata": {},
     "output_type": "execute_result"
    }
   ],
   "source": [
    "# method one but not generalize(during change of the block size value)\n",
    "torch.cat([embed[:,0,:],embed[:,1,:],embed[:,2,:]],1)"
   ]
  },
  {
   "cell_type": "code",
   "execution_count": 110,
   "metadata": {},
   "outputs": [
    {
     "data": {
      "text/plain": [
       "torch.Size([19, 6])"
      ]
     },
     "execution_count": 110,
     "metadata": {},
     "output_type": "execute_result"
    }
   ],
   "source": [
    "# method--two\n",
    "torch.cat(torch.unbind(embed,1),1).shape"
   ]
  },
  {
   "cell_type": "code",
   "execution_count": 114,
   "metadata": {},
   "outputs": [
    {
     "data": {
      "text/plain": [
       "tensor([[ 0.5033,  1.5342,  0.5033,  1.5342,  0.5033,  1.5342],\n",
       "        [ 0.5033,  1.5342,  0.5033,  1.5342,  0.1354, -1.6490],\n",
       "        [ 0.5033,  1.5342,  0.1354, -1.6490,  1.0937, -0.6189],\n",
       "        [ 0.1354, -1.6490,  1.0937, -0.6189,  0.9206, -0.9490],\n",
       "        [ 0.5033,  1.5342,  0.5033,  1.5342,  0.5033,  1.5342],\n",
       "        [ 0.5033,  1.5342,  0.5033,  1.5342, -0.7817,  0.8748],\n",
       "        [ 0.5033,  1.5342, -0.7817,  0.8748, -1.1031, -1.1599],\n",
       "        [-0.7817,  0.8748, -1.1031, -1.1599,  0.4824, -0.4671],\n",
       "        [-1.1031, -1.1599,  0.4824, -0.4671, -1.4536, -0.0434],\n",
       "        [ 0.4824, -0.4671, -1.4536, -0.0434, -1.4797, -0.2591],\n",
       "        [ 0.5033,  1.5342,  0.5033,  1.5342,  0.5033,  1.5342],\n",
       "        [ 0.5033,  1.5342,  0.5033,  1.5342,  0.1354, -1.6490],\n",
       "        [ 0.5033,  1.5342,  0.1354, -1.6490, -1.2548, -0.1698],\n",
       "        [ 0.1354, -1.6490, -1.2548, -0.1698, -1.4797, -0.2591],\n",
       "        [ 0.5033,  1.5342,  0.5033,  1.5342,  0.5033,  1.5342],\n",
       "        [ 0.5033,  1.5342,  0.5033,  1.5342,  0.1354, -1.6490],\n",
       "        [ 0.5033,  1.5342,  0.1354, -1.6490, -0.0890, -1.1052],\n",
       "        [ 0.1354, -1.6490, -0.0890, -1.1052, -1.2410,  0.9524],\n",
       "        [-0.0890, -1.1052, -1.2410,  0.9524, -0.8920, -0.1377]])"
      ]
     },
     "execution_count": 114,
     "metadata": {},
     "output_type": "execute_result"
    }
   ],
   "source": [
    "#method--three\n",
    "embed.view(19,6)"
   ]
  },
  {
   "cell_type": "code",
   "execution_count": null,
   "metadata": {},
   "outputs": [],
   "source": [
    "W1=torch.randn((6,100)) \n",
    "b1=torch.randn(100)"
   ]
  },
  {
   "cell_type": "code",
   "execution_count": 118,
   "metadata": {},
   "outputs": [
    {
     "data": {
      "text/plain": [
       "torch.Size([19, 100])"
      ]
     },
     "execution_count": 118,
     "metadata": {},
     "output_type": "execute_result"
    }
   ],
   "source": [
    "h=torch.tanh(embed.view(-1,6)@W1 +b1)\n",
    "h.shape"
   ]
  },
  {
   "cell_type": "code",
   "execution_count": 124,
   "metadata": {},
   "outputs": [],
   "source": [
    "W2=torch.randn((100,188)) \n",
    "b2=torch.randn(188)"
   ]
  },
  {
   "cell_type": "code",
   "execution_count": 126,
   "metadata": {},
   "outputs": [
    {
     "data": {
      "text/plain": [
       "torch.Size([19, 188])"
      ]
     },
     "execution_count": 126,
     "metadata": {},
     "output_type": "execute_result"
    }
   ],
   "source": [
    "logits=h @ W2+ b2\n",
    "logits.shape"
   ]
  },
  {
   "cell_type": "code",
   "execution_count": 130,
   "metadata": {},
   "outputs": [
    {
     "data": {
      "text/plain": [
       "tensor(26.7469)"
      ]
     },
     "execution_count": 130,
     "metadata": {},
     "output_type": "execute_result"
    }
   ],
   "source": [
    "# this is inefficient because it takes memory \n",
    "counts=logits.exp() #create the fake counts\n",
    "prob= counts/counts.sum(1,keepdim=True)\n",
    "loss=-prob[torch.arange(19),Y].log().mean()\n",
    "loss"
   ]
  },
  {
   "cell_type": "code",
   "execution_count": 134,
   "metadata": {},
   "outputs": [
    {
     "data": {
      "text/plain": [
       "tensor(26.7469)"
      ]
     },
     "execution_count": 134,
     "metadata": {},
     "output_type": "execute_result"
    }
   ],
   "source": [
    "# forward pass will be much more efficient \n",
    "# the backward pass will be more efficient\n",
    "# numerically well behaved\n",
    "F.cross_entropy(logits,Y) "
   ]
  },
  {
   "cell_type": "markdown",
   "metadata": {},
   "source": [
    "conclusion"
   ]
  },
  {
   "cell_type": "code",
   "execution_count": 455,
   "metadata": {},
   "outputs": [],
   "source": [
    "def build_dataset(am_words):\n",
    "    block_size=3\n",
    "    X,Y=[],[]\n",
    "    for w in am_words:\n",
    "        #print(w)\n",
    "        context=[0]*block_size\n",
    "        for ch in w + \".\":\n",
    "            ix=stoi[ch]\n",
    "            X.append(context)\n",
    "            Y.append(ix)\n",
    "            #print(\"\".join(itos[i] for i in context),'---->',itos[ix])\n",
    "            context=context[1:]+[ix]\n",
    "    X=torch.tensor(X)\n",
    "    Y=torch.tensor(Y)\n",
    "    print(X.shape,Y.shape)\n",
    "    return X,Y"
   ]
  },
  {
   "cell_type": "code",
   "execution_count": 456,
   "metadata": {},
   "outputs": [
    {
     "name": "stdout",
     "output_type": "stream",
     "text": [
      "torch.Size([4423, 3]) torch.Size([4423])\n",
      "torch.Size([564, 3]) torch.Size([564])\n",
      "torch.Size([556, 3]) torch.Size([556])\n"
     ]
    }
   ],
   "source": [
    "import random\n",
    "random.seed(42)\n",
    "random.shuffle(am_words)\n",
    "n1=int(0.8*(len(am_words)))\n",
    "n2=int(0.9*(len(am_words)))\n",
    "\n",
    "Xtr,Ytr=build_dataset(am_words[:n1])\n",
    "Xval,Yval=build_dataset(am_words[n1:n2])\n",
    "Xte,Yte=build_dataset(am_words[n2:])"
   ]
  },
  {
   "cell_type": "code",
   "execution_count": 457,
   "metadata": {},
   "outputs": [],
   "source": [
    "g=torch.Generator().manual_seed(2147483647)\n",
    "C=torch.randn((188,2),generator=g)\n",
    "W1=torch.randn((6,100),generator=g)\n",
    "b1=torch.randn(100,generator=g)\n",
    "W2=torch.randn((100,188),generator=g)\n",
    "b2=torch.randn(188,generator=g)\n",
    "parameters=[C,W1,b1,W2,b2]\n",
    "for p in parameters:\n",
    "    p.requires_grad=True"
   ]
  },
  {
   "cell_type": "code",
   "execution_count": 458,
   "metadata": {},
   "outputs": [],
   "source": [
    "# lre=torch.linspace(-4,0,1000)\n",
    "# lrs=10**lre"
   ]
  },
  {
   "cell_type": "code",
   "execution_count": 509,
   "metadata": {},
   "outputs": [
    {
     "name": "stdout",
     "output_type": "stream",
     "text": [
      "2.3487539291381836\n"
     ]
    }
   ],
   "source": [
    "# lri=[]\n",
    "# lossi=[]\n",
    "for i in range(30000):\n",
    "    #minibach construct\n",
    "    ix=torch.randint(0,Xtr.shape[0],(32,))\n",
    "\n",
    "    #forward pass\n",
    "    embed=C[Xtr[ix]]\n",
    "    h=torch.tanh(embed.view(-1,6)@W1 +b1)\n",
    "    logits=h@W2+b2\n",
    "    loss=F.cross_entropy(logits,Ytr[ix]) \n",
    "   \n",
    "\n",
    "    # backward pass\n",
    "    for p in parameters:\n",
    "        p.grad=None\n",
    "    loss.backward()\n",
    "\n",
    "\n",
    "    #update\n",
    "    lr=0.1\n",
    "    for p in parameters:\n",
    "        p.data+=-lr*p.grad\n",
    "            \n",
    "    # #tradk\n",
    "    # lri.append(lre[i])\n",
    "    # lossi.append(loss.item())\n",
    "print(loss.item())"
   ]
  },
  {
   "cell_type": "code",
   "execution_count": 485,
   "metadata": {},
   "outputs": [
    {
     "data": {
      "text/plain": [
       "20064"
      ]
     },
     "execution_count": 485,
     "metadata": {},
     "output_type": "execute_result"
    }
   ],
   "source": [
    "sum(p.nelement() for p in parameters)"
   ]
  },
  {
   "cell_type": "code",
   "execution_count": 510,
   "metadata": {},
   "outputs": [
    {
     "data": {
      "text/plain": [
       "1.982420563697815"
      ]
     },
     "execution_count": 510,
     "metadata": {},
     "output_type": "execute_result"
    }
   ],
   "source": [
    "embed=C[Xtr]\n",
    "h=torch.tanh(embed.view(-1,6)@W1 +b1)\n",
    "logits=h@W2+b2\n",
    "losstr=F.cross_entropy(logits,Ytr).item() \n",
    "losstr"
   ]
  },
  {
   "cell_type": "code",
   "execution_count": 511,
   "metadata": {},
   "outputs": [
    {
     "data": {
      "text/plain": [
       "6.329527854919434"
      ]
     },
     "execution_count": 511,
     "metadata": {},
     "output_type": "execute_result"
    }
   ],
   "source": [
    "embed=C[Xval]\n",
    "h=torch.tanh(embed.view(-1,6)@W1 +b1)\n",
    "logits=h@W2+b2\n",
    "lossval=F.cross_entropy(logits,Yval).item()\n",
    "lossval"
   ]
  },
  {
   "cell_type": "code",
   "execution_count": 508,
   "metadata": {},
   "outputs": [
    {
     "data": {
      "image/png": "[encoded data removed]",
      "text/plain": [
       "<Figure size 800x800 with 1 Axes>"
      ]
     },
     "metadata": {},
     "output_type": "display_data"
    }
   ],
   "source": [
    "from matplotlib import font_manager\n",
    "font_manager.fontManager.addfont(\"data/NotoSansEthiopic-Regular.ttf\")\n",
    "plt.rcParams[\"font.family\"]=\"Noto Sans Ethiopic\"\n",
    "plt.figure(figsize=(8, 8))\n",
    "plt.scatter(C[:, 0].detach().numpy(), C[:, 1].detach().numpy(), s=200)  \n",
    "\n",
    "for i in range(C.shape[0]):\n",
    "    x, y = C[i, 0].item(), C[i, 1].item()\n",
    "    if x != 0 and y != 0:  \n",
    "        plt.text(x, y, itos[i], ha=\"center\", va=\"center\", color=\"white\")\n",
    "    else:\n",
    "        print(\"none\")\n",
    "\n",
    "plt.grid(which=\"minor\")\n",
    "plt.show()"
   ]
  },
  {
   "cell_type": "code",
   "execution_count": 512,
   "metadata": {},
   "outputs": [
    {
     "name": "stdout",
     "output_type": "stream",
     "text": [
      "ሸማያ.\n",
      "አሸንር.\n",
      "ታማ.\n",
      "አሰፋ.\n",
      "ዩል.\n",
      "ደበበ.\n",
      "ሳምና.\n",
      "ጣባ.\n",
      "ያራጥያ.\n",
      "ኤልያና.\n",
      "ማፌል.\n",
      "በርጤሜዎስ.\n",
      "ፀሌን.\n",
      "ሐሬኤል.\n",
      "ጵዛር.\n",
      "ኤልያድያ.\n",
      "አውግስጦስ.\n",
      "እስጢፋኖስ.\n",
      "ይዛቸው.\n",
      "አልማ.\n"
     ]
    }
   ],
   "source": [
    "g = torch.Generator().manual_seed(2147483647 + 10)\n",
    "\n",
    "for _ in range(20):\n",
    "    out = []\n",
    "    context = [0] * block_size  # initialize with all ...\n",
    "    while True:\n",
    "        emb = C[torch.tensor([context])]  # (1, block_size, d)\n",
    "        h = torch.tanh(emb.view(1, -1) @ W1 + b1)\n",
    "        logits = h @ W2 + b2\n",
    "        probs = F.softmax(logits, dim=1)\n",
    "        ix = torch.multinomial(probs, num_samples=1, generator=g).item()\n",
    "        out.append(ix)\n",
    "        context = context[1:] + [ix]\n",
    "        if ix == 0:\n",
    "            break\n",
    "    print(''.join(itos[i] for i in out))\n"
   ]
  }
 ],
 "metadata": {
  "kernelspec": {
   "display_name": ".venv",
   "language": "python",
   "name": "python3"
  },
  "language_info": {
   "codemirror_mode": {
    "name": "ipython",
    "version": 3
   },
   "file_extension": ".py",
   "mimetype": "text/x-python",
   "name": "python",
   "nbconvert_exporter": "python",
   "pygments_lexer": "ipython3",
   "version": "3.12.3"
  }
 },
 "nbformat": 4,
 "nbformat_minor": 2
}
