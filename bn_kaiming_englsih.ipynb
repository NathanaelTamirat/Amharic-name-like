{
 "cells": [
  {
   "cell_type": "code",
   "execution_count": 91,
   "metadata": {},
   "outputs": [],
   "source": [
    "import torch \n",
    "import random\n",
    "import torch.nn.functional as F\n",
    "import matplotlib.pyplot as plt\n",
    "import pandas as pd\n",
    "%matplotlib inline"
   ]
  },
  {
   "cell_type": "code",
   "execution_count": 92,
   "metadata": {},
   "outputs": [],
   "source": [
    "# new_words=pd.read_csv(\"data/amharic_names.csv\")\n",
    "# old_words=open(\"data/cleaned_words.txt\",\"r\").read().splitlines()\n",
    "# new_amh_words=new_words[\"in_am\"].tolist()\n",
    "# am_words=new_amh_words + old_words\n",
    "am_words=open(\"data/english_names.txt\",\"r\").read().splitlines()"
   ]
  },
  {
   "cell_type": "code",
   "execution_count": 93,
   "metadata": {},
   "outputs": [],
   "source": [
    "chrs=sorted(set(list(\"\".join(am_words))))\n",
    "stoi={s:i+1 for i,s in enumerate(chrs)}\n",
    "stoi[\".\"]=0\n",
    "itos={i:s for s,i in stoi.items()}"
   ]
  },
  {
   "cell_type": "code",
   "execution_count": 94,
   "metadata": {},
   "outputs": [],
   "source": [
    "block_size=3\n",
    "def build_dataset(am_words):\n",
    "    X,Y=[],[]\n",
    "    for w in am_words:\n",
    "        context=[0]*block_size\n",
    "        for ch in w +\".\":\n",
    "            ix=stoi[ch]\n",
    "            X.append(context)\n",
    "            Y.append(ix)\n",
    "            context=context[1:]+[ix]\n",
    "            # print(\"\".join(itos[i] for i in context),'---->',itos[ix])\n",
    "    X=torch.tensor(X)\n",
    "    Y=torch.tensor(Y)\n",
    "    return X,Y"
   ]
  },
  {
   "cell_type": "code",
   "execution_count": 95,
   "metadata": {},
   "outputs": [],
   "source": [
    "random.seed(42)\n",
    "random.shuffle(am_words)\n",
    "n1=int(0.8*(len(am_words)))\n",
    "n2=int(0.9*(len(am_words)))\n",
    "\n",
    "Xtr,Ytr=build_dataset(am_words[:n1])      #80\n",
    "Xval,Yval=build_dataset(am_words[n1:n2])  #10\n",
    "Xte,Yte=build_dataset(am_words[n2:])      #10"
   ]
  },
  {
   "cell_type": "code",
   "execution_count": 96,
   "metadata": {},
   "outputs": [
    {
     "data": {
      "text/plain": [
       "'\\nthe gain of tanh is 5/3\\nfan_in = n_embed*blocksize\\n\\n5/3 / (30**0.5)\\n'"
      ]
     },
     "execution_count": 96,
     "metadata": {},
     "output_type": "execute_result"
    }
   ],
   "source": [
    "# kaiming init\n",
    "'''\n",
    "the gain of tanh is 5/3\n",
    "fan_in = n_embed*blocksize\n",
    "\n",
    "5/3 / (30**0.5)\n",
    "'''"
   ]
  },
  {
   "cell_type": "code",
   "execution_count": 97,
   "metadata": {},
   "outputs": [
    {
     "name": "stdout",
     "output_type": "stream",
     "text": [
      "12297\n"
     ]
    }
   ],
   "source": [
    "n_embed=10  # dimensionality of the char embedding vector\n",
    "n_hidden=200\n",
    "vocab_size=len(itos)\n",
    "\n",
    "g=torch.Generator().manual_seed(2147483647)\n",
    "C=torch.randn((vocab_size,n_embed), generator=g)\n",
    "W1=torch.randn((n_embed*block_size,n_hidden), generator=g) * (5/3)/((n_embed*block_size)**0.5) # kaiming init\n",
    "b1=torch.randn(n_hidden, generator=g)                      *0.01\n",
    "W2=torch.randn((n_hidden,vocab_size), generator=g)         *0.01\n",
    "b2=torch.randn(vocab_size, generator=g)                    *0\n",
    "\n",
    "bngain=torch.ones((1,n_hidden))\n",
    "bnbais=torch.zeros((1,n_hidden))\n",
    "\n",
    "bnmean_running=torch.zeros((1,n_hidden))\n",
    "bnstd_running=torch.ones((1,n_hidden))\n",
    "\n",
    "parameters=[C,W1,b1,W2,b2,bngain,bnbais]\n",
    "\n",
    "print(sum(p.nelement() for p in parameters))\n",
    "\n",
    "for p in parameters:\n",
    "    p.requires_grad=True"
   ]
  },
  {
   "cell_type": "markdown",
   "metadata": {},
   "source": [
    "- if the first loss is very high the initialization is messed up\n",
    "- each char has 188 pr of 1/188\n",
    "\n",
    "\n",
    "this is what we expect on the first loss\n",
    "```\n",
    "(-torch.tensor(1/188.0).log())\n",
    "\n",
    "---> 5.2364\n",
    "\n",
    "```\n",
    "\n",
    "if it is high we have to normaize the logits\n",
    "\n",
    "```\n",
    "logits=h@W2+b2\n",
    "```\n"
   ]
  },
  {
   "cell_type": "code",
   "execution_count": 98,
   "metadata": {},
   "outputs": [
    {
     "name": "stdout",
     "output_type": "stream",
     "text": [
      "      0/ 200000: 3.3147\n",
      "   1000/ 200000: 2.1945\n",
      "   2000/ 200000: 2.3061\n",
      "   3000/ 200000: 2.2337\n",
      "   4000/ 200000: 2.1661\n",
      "   5000/ 200000: 2.3550\n",
      "   6000/ 200000: 2.1222\n",
      "   7000/ 200000: 2.4549\n",
      "   8000/ 200000: 2.0116\n",
      "   9000/ 200000: 2.2276\n",
      "  10000/ 200000: 2.1984\n",
      "  11000/ 200000: 1.8837\n",
      "  12000/ 200000: 2.2050\n",
      "  13000/ 200000: 2.2054\n",
      "  14000/ 200000: 2.6501\n",
      "  15000/ 200000: 2.0817\n",
      "  16000/ 200000: 2.4526\n",
      "  17000/ 200000: 2.2701\n",
      "  18000/ 200000: 2.0249\n",
      "  19000/ 200000: 2.3733\n",
      "  20000/ 200000: 2.3375\n",
      "  21000/ 200000: 2.4851\n",
      "  22000/ 200000: 1.9193\n",
      "  23000/ 200000: 1.9813\n",
      "  24000/ 200000: 2.5391\n",
      "  25000/ 200000: 2.3289\n",
      "  26000/ 200000: 2.3917\n",
      "  27000/ 200000: 2.4123\n",
      "  28000/ 200000: 2.0773\n",
      "  29000/ 200000: 2.6299\n",
      "  30000/ 200000: 2.4359\n",
      "  31000/ 200000: 2.2457\n",
      "  32000/ 200000: 2.4601\n",
      "  33000/ 200000: 2.3236\n",
      "  34000/ 200000: 1.9366\n",
      "  35000/ 200000: 2.3067\n",
      "  36000/ 200000: 2.1359\n",
      "  37000/ 200000: 2.0240\n",
      "  38000/ 200000: 2.6379\n",
      "  39000/ 200000: 2.1167\n",
      "  40000/ 200000: 2.0119\n",
      "  41000/ 200000: 2.2507\n",
      "  42000/ 200000: 2.3109\n",
      "  43000/ 200000: 2.4602\n",
      "  44000/ 200000: 2.0115\n",
      "  45000/ 200000: 1.9389\n",
      "  46000/ 200000: 2.1803\n",
      "  47000/ 200000: 2.0450\n",
      "  48000/ 200000: 2.5557\n",
      "  49000/ 200000: 1.9696\n",
      "  50000/ 200000: 2.2595\n",
      "  51000/ 200000: 2.8347\n",
      "  52000/ 200000: 2.2645\n",
      "  53000/ 200000: 2.3972\n",
      "  54000/ 200000: 2.1809\n",
      "  55000/ 200000: 2.0111\n",
      "  56000/ 200000: 2.0809\n",
      "  57000/ 200000: 1.6430\n",
      "  58000/ 200000: 1.5932\n",
      "  59000/ 200000: 2.4397\n",
      "  60000/ 200000: 2.4775\n",
      "  61000/ 200000: 2.3680\n",
      "  62000/ 200000: 2.5270\n",
      "  63000/ 200000: 2.1187\n",
      "  64000/ 200000: 2.1123\n",
      "  65000/ 200000: 2.0752\n",
      "  66000/ 200000: 2.5810\n",
      "  67000/ 200000: 2.4332\n",
      "  68000/ 200000: 1.9633\n",
      "  69000/ 200000: 2.0959\n",
      "  70000/ 200000: 2.1020\n",
      "  71000/ 200000: 2.1892\n",
      "  72000/ 200000: 2.5667\n",
      "  73000/ 200000: 2.4954\n",
      "  74000/ 200000: 1.7830\n",
      "  75000/ 200000: 2.4469\n",
      "  76000/ 200000: 1.7072\n",
      "  77000/ 200000: 2.2053\n",
      "  78000/ 200000: 2.2163\n",
      "  79000/ 200000: 2.1766\n",
      "  80000/ 200000: 2.2788\n",
      "  81000/ 200000: 1.9443\n",
      "  82000/ 200000: 2.2962\n",
      "  83000/ 200000: 1.9209\n",
      "  84000/ 200000: 2.3714\n",
      "  85000/ 200000: 2.0232\n",
      "  86000/ 200000: 2.1389\n",
      "  87000/ 200000: 2.0709\n",
      "  88000/ 200000: 2.3431\n",
      "  89000/ 200000: 2.2364\n",
      "  90000/ 200000: 2.1862\n",
      "  91000/ 200000: 1.9501\n",
      "  92000/ 200000: 2.3732\n",
      "  93000/ 200000: 1.7913\n",
      "  94000/ 200000: 1.8930\n",
      "  95000/ 200000: 2.0436\n",
      "  96000/ 200000: 1.8903\n",
      "  97000/ 200000: 2.2625\n",
      "  98000/ 200000: 2.0094\n",
      "  99000/ 200000: 2.0187\n",
      " 100000/ 200000: 1.9474\n",
      " 101000/ 200000: 1.7715\n",
      " 102000/ 200000: 2.3211\n",
      " 103000/ 200000: 2.1180\n",
      " 104000/ 200000: 2.2590\n",
      " 105000/ 200000: 1.9871\n",
      " 106000/ 200000: 2.3807\n",
      " 107000/ 200000: 2.0831\n",
      " 108000/ 200000: 2.0969\n",
      " 109000/ 200000: 2.3060\n",
      " 110000/ 200000: 2.3010\n",
      " 111000/ 200000: 2.2992\n",
      " 112000/ 200000: 1.9452\n",
      " 113000/ 200000: 2.2239\n",
      " 114000/ 200000: 1.9887\n",
      " 115000/ 200000: 2.2084\n",
      " 116000/ 200000: 2.1585\n",
      " 117000/ 200000: 2.4092\n",
      " 118000/ 200000: 2.4493\n",
      " 119000/ 200000: 2.1597\n",
      " 120000/ 200000: 1.9837\n",
      " 121000/ 200000: 2.2744\n",
      " 122000/ 200000: 2.1616\n",
      " 123000/ 200000: 2.3652\n",
      " 124000/ 200000: 2.7196\n",
      " 125000/ 200000: 1.9648\n",
      " 126000/ 200000: 2.2123\n",
      " 127000/ 200000: 2.2040\n",
      " 128000/ 200000: 2.5039\n",
      " 129000/ 200000: 2.2525\n",
      " 130000/ 200000: 2.4523\n",
      " 131000/ 200000: 1.8908\n",
      " 132000/ 200000: 1.8122\n",
      " 133000/ 200000: 2.3252\n",
      " 134000/ 200000: 2.0503\n",
      " 135000/ 200000: 2.0347\n",
      " 136000/ 200000: 2.0054\n",
      " 137000/ 200000: 2.0557\n",
      " 138000/ 200000: 2.0448\n",
      " 139000/ 200000: 1.9525\n",
      " 140000/ 200000: 2.3839\n",
      " 141000/ 200000: 1.8112\n",
      " 142000/ 200000: 2.0595\n",
      " 143000/ 200000: 2.2652\n",
      " 144000/ 200000: 2.1219\n",
      " 145000/ 200000: 2.0428\n",
      " 146000/ 200000: 2.1366\n",
      " 147000/ 200000: 2.1577\n",
      " 148000/ 200000: 2.3920\n",
      " 149000/ 200000: 2.2727\n",
      " 150000/ 200000: 2.1987\n",
      " 151000/ 200000: 2.2596\n",
      " 152000/ 200000: 1.8746\n",
      " 153000/ 200000: 2.1508\n",
      " 154000/ 200000: 2.2091\n",
      " 155000/ 200000: 2.1135\n",
      " 156000/ 200000: 1.8602\n",
      " 157000/ 200000: 2.0486\n",
      " 158000/ 200000: 1.9999\n",
      " 159000/ 200000: 2.2591\n",
      " 160000/ 200000: 1.9733\n",
      " 161000/ 200000: 2.1425\n",
      " 162000/ 200000: 1.8175\n",
      " 163000/ 200000: 2.1218\n",
      " 164000/ 200000: 2.1086\n",
      " 165000/ 200000: 2.4005\n",
      " 166000/ 200000: 2.2350\n",
      " 167000/ 200000: 2.3454\n",
      " 168000/ 200000: 1.9720\n",
      " 169000/ 200000: 2.2696\n",
      " 170000/ 200000: 1.8668\n",
      " 171000/ 200000: 2.2700\n",
      " 172000/ 200000: 2.0314\n",
      " 173000/ 200000: 2.1536\n",
      " 174000/ 200000: 2.3818\n",
      " 175000/ 200000: 2.0012\n",
      " 176000/ 200000: 1.8392\n",
      " 177000/ 200000: 2.0343\n",
      " 178000/ 200000: 1.8222\n",
      " 179000/ 200000: 2.1421\n",
      " 180000/ 200000: 1.9973\n",
      " 181000/ 200000: 2.1502\n",
      " 182000/ 200000: 2.2603\n",
      " 183000/ 200000: 2.3212\n",
      " 184000/ 200000: 2.4139\n",
      " 185000/ 200000: 2.3152\n",
      " 186000/ 200000: 1.8118\n",
      " 187000/ 200000: 1.7670\n",
      " 188000/ 200000: 2.1788\n",
      " 189000/ 200000: 2.4356\n",
      " 190000/ 200000: 1.8347\n",
      " 191000/ 200000: 2.1930\n",
      " 192000/ 200000: 2.2472\n",
      " 193000/ 200000: 2.1391\n",
      " 194000/ 200000: 1.9402\n",
      " 195000/ 200000: 2.2455\n",
      " 196000/ 200000: 2.1348\n",
      " 197000/ 200000: 2.0270\n",
      " 198000/ 200000: 1.9581\n",
      " 199000/ 200000: 1.7643\n"
     ]
    }
   ],
   "source": [
    "max_step=200000\n",
    "\n",
    "batch_size=32\n",
    "lossi=[]\n",
    "\n",
    "for i in range(max_step):\n",
    "\n",
    "    #minibatch\n",
    "    ix=torch.randint(0,Xtr.shape[0],(batch_size,),generator=g)\n",
    "    Xb,Yb=Xtr[ix],Ytr[ix]\n",
    "\n",
    "    #forward pass\n",
    "    embed=C[Xb]   #embed the char into vectors\n",
    "    embed_cat=embed.view(embed.shape[0],-1) \n",
    "    hid_preact=embed_cat@W1+b1    #hidden layer\n",
    "\n",
    "    #batch norm\n",
    "    bnmeani=hid_preact.mean(0,keepdim=True)\n",
    "    bnstdi=hid_preact.std(0,keepdim=True)\n",
    "    hid_preact=bngain*(hid_preact- bnmeani )/ bnstdi + bnbais\n",
    "\n",
    "    '''\n",
    "    During training, the batch statistics are used for normalization. \n",
    "    However, during inference (testing or deployment), the running estimates \n",
    "    are used to normalize the data. This ensures that the model behaves consistently\n",
    "      and efficiently when making predictions on new, unseen data.\n",
    "    '''\n",
    "    with torch.no_grad():\n",
    "        bnmean_running=0.999*bnmean_running +0.001*bnmeani\n",
    "        bnstd_running=0.999*bnstd_running +0.001*bnstdi\n",
    "\n",
    "\n",
    "    h=torch.tanh(hid_preact)  #hidden layer\n",
    "    logits=h@W2+b2 #output layer\n",
    "    loss=F.cross_entropy(logits,Yb)\n",
    "\n",
    "    #backward pass\n",
    "    for p in parameters:\n",
    "        p.grad=None\n",
    "    loss.backward()\n",
    "\n",
    "    #update\n",
    "    lr=0.1 if i < 100000 else 0.01\n",
    "    for p in parameters:\n",
    "        p.data+=-lr*p.grad\n",
    "    \n",
    "    #track stats\n",
    "    if i%1000==0:\n",
    "        print(f\"{i:7d}/{max_step:7d}: {loss.item():.4f}\")\n",
    "    lossi.append(loss.log10().item())\n",
    "    "
   ]
  },
  {
   "cell_type": "code",
   "execution_count": 99,
   "metadata": {},
   "outputs": [
    {
     "data": {
      "text/plain": [
       "<matplotlib.image.AxesImage at 0x733c2ebaf260>"
      ]
     },
     "execution_count": 99,
     "metadata": {},
     "output_type": "execute_result"
    },
    {
     "data": {
      "image/png": "[encoded data removed]",
      "text/plain": [
       "<Figure size 640x480 with 1 Axes>"
      ]
     },
     "metadata": {},
     "output_type": "display_data"
    },
    {
     "data": {
      "image/png": "[encoded data removed]",
      "text/plain": [
       "<Figure size 2000x1000 with 1 Axes>"
      ]
     },
     "metadata": {},
     "output_type": "display_data"
    }
   ],
   "source": [
    "'''\n",
    "- Here for tanh linear activation functions the range is between -1 and 1\n",
    "- In the saturation regions of tanh, the derivative (gradient) is very small.\n",
    "During backpropagation, these small gradients can cause the updates to the weights \n",
    "to be very small, slowing down the training process or even causing it to stall.\n",
    "'''\n",
    "plt.hist(h.view(-1).tolist(),50)\n",
    "\n",
    "# plt.hist(hid_preact.view(-1).tolist(),50)\n",
    "\n",
    "# - if the entire column is white it is dead neuron\n",
    "\n",
    "plt.figure(figsize=(20,10))\n",
    "plt.imshow(h.abs()>0.99 ,cmap=\"gray\", interpolation=\"nearest\")\n"
   ]
  },
  {
   "cell_type": "code",
   "execution_count": 103,
   "metadata": {},
   "outputs": [
    {
     "data": {
      "text/plain": [
       "[<matplotlib.lines.Line2D at 0x733c344066f0>]"
      ]
     },
     "execution_count": 103,
     "metadata": {},
     "output_type": "execute_result"
    },
    {
     "data": {
      "image/png": "[encoded data removed]",
      "text/plain": [
       "<Figure size 640x480 with 1 Axes>"
      ]
     },
     "metadata": {},
     "output_type": "display_data"
    }
   ],
   "source": [
    "plt.plot(lossi)"
   ]
  },
  {
   "cell_type": "code",
   "execution_count": 104,
   "metadata": {},
   "outputs": [
    {
     "name": "stdout",
     "output_type": "stream",
     "text": [
      "train 2.0668270587921143\n",
      "val 2.104844808578491\n"
     ]
    }
   ],
   "source": [
    "@torch.no_grad()  # this decorator disables gradient tracking\n",
    "def split_loss(split):\n",
    "    x, y = {\n",
    "        'train': (Xtr, Ytr),\n",
    "        'val': (Xval, Yval),\n",
    "        'test': (Xte, Yte),\n",
    "    }[split]    \n",
    "    emb = C[x]  # (N, block_size, n_embd)\n",
    "    embcat = emb.view(emb.shape[0], -1)  # concat into (N, block_size * n_embd)\n",
    "    hid_preact=embcat @ W1 + b1\n",
    "    hid_preact=bngain*(hid_preact- hid_preact.mean(0,keepdim=True))/hid_preact.std(0,keepdim=True) + bnbais\n",
    "    h = torch.tanh(hid_preact)  # (N, n_hidden)\n",
    "    logits = h @ W2 + b2  # (N, vocab_size)\n",
    "    loss = F.cross_entropy(logits, y)\n",
    "    print(split, loss.item())\n",
    "\n",
    "split_loss('train')\n",
    "split_loss('val')"
   ]
  }
 ],
 "metadata": {
  "kernelspec": {
   "display_name": ".venv",
   "language": "python",
   "name": "python3"
  },
  "language_info": {
   "codemirror_mode": {
    "name": "ipython",
    "version": 3
   },
   "file_extension": ".py",
   "mimetype": "text/x-python",
   "name": "python",
   "nbconvert_exporter": "python",
   "pygments_lexer": "ipython3",
   "version": "3.12.3"
  }
 },
 "nbformat": 4,
 "nbformat_minor": 2
}
